{
 "cells": [
  {
   "cell_type": "code",
   "execution_count": 1,
   "metadata": {},
   "outputs": [
    {
     "name": "stdout",
     "output_type": "stream",
     "text": [
      "done\n"
     ]
    }
   ],
   "source": [
    "# uses conda environment c14\n",
    "import pandas as pd\n",
    "import numpy as np\n",
    "from numpy import asarray\n",
    "import xarray as xr\n",
    "import pkg_resources\n",
    "from csv import reader\n",
    "from math import exp, pow, sqrt\n",
    "from copy import copy\n",
    "from openpyxl import load_workbook\n",
    "from datetime import date\n",
    "from pathlib import Path\n",
    "\n",
    "\n",
    "\n",
    "import cartopy.crs as ccrs\n",
    "import cartopy.feature as cfeature \n",
    "from matplotlib.lines import Line2D\n",
    "from matplotlib import pyplot as plt\n",
    "from mpl_toolkits.axes_grid1.inset_locator import inset_axes\n",
    "\n",
    "\n",
    "from iosacal.core import CalAge, CalibrationCurve\n",
    "from iosacal.core import RadiocarbonDetermination as R\n",
    "from iosacal.hpd import hpd_interval\n",
    "import iosacal as ios\n",
    "from iosacal.text import single_text\n",
    "\n",
    "\n",
    "from calcDelR import calcDelR\n",
    "\n",
    "PROJECT_ROOT = Path.cwd().parents[1]\n",
    "data_dir = PROJECT_ROOT / \"ws/data/\"\n",
    "print('done')"
   ]
  },
  {
   "cell_type": "code",
   "execution_count": 16,
   "metadata": {},
   "outputs": [],
   "source": [
    "xls = pd.ExcelFile('HOLSEA_2020_Singapore.xlsx',  engine='openpyxl')\n",
    "df = pd.read_excel(xls, 'Singapore', header=1).drop(0)\n",
    "\n",
    "#Make new dataframe for radiocarbon ages\n",
    "df_c = df[['Latitude', \n",
    "           'Longitude',\n",
    "           'Dated facies',\n",
    "           'Unique sample ID',\n",
    "          'Corrected age       (14C a BP)',\n",
    "          'Corrected age uncertainty (14C a)']].copy()\n",
    "\n",
    "\n",
    "######## NOTE: THIS IS BRITTLE.  MAKE A COLUMN IN YOUR SPREADSHEET #######\n",
    "######## THAT LABELS WHICH DATA ARE MARINE VS TERRESTRIAL ################\n",
    "df_c['ismarine'] = df_c['Dated facies'].map(lambda x: 1 if 'marine' in x else 0)\n",
    "\n",
    "######## THIS LINE CURRENTLY ADDs 100 YRS BULK UNCERTAINTY TO EACH DATUM ######\n",
    "######## RANDOMLY AS AN EXAMPLE. TO ADD BULK UNCERTAINTY TO ONLY A CHOSEN PART  #####\n",
    "######## OF THE DATA, ADD A BINARY COLUMN NAMED BULK THAT SPECIFIES WHICH DATA ARE BULK ###3\n",
    "######## AND COMMENT THIS OUT ####\n",
    "df_c['bulk_uncertainty'] = np.round(np.random.random(len(df)))  * 100\n"
   ]
  },
  {
   "cell_type": "markdown",
   "metadata": {},
   "source": [
    "# Calculate Delta R"
   ]
  },
  {
   "cell_type": "code",
   "execution_count": 17,
   "metadata": {},
   "outputs": [
    {
     "name": "stdout",
     "output_type": "stream",
     "text": [
      "done\n"
     ]
    }
   ],
   "source": [
    "def apply_delR(df, df_R, n, which):\n",
    "    df['lat'] = df.Latitude\n",
    "    df['lon'] = df.Longitude\n",
    "    \n",
    "    try:\n",
    "        if 'mu' in which:\n",
    "            return df.apply(lambda r: calcDelR(df_R, r.Latitude, r.Longitude, n).getMu(), axis=1)\n",
    "    \n",
    "        elif 'uncertainty' in which:\n",
    "            return df.apply(lambda r: calcDelR(df_R, r.Latitude, r.Longitude, n).getUncert(), axis=1)\n",
    "        \n",
    "    except ValueError:\n",
    "        print('Use either mu or uncertainty')\n",
    "\n",
    "\n",
    "df_R = pd.read_excel('delta_R_calibration.xlsx')\n",
    "df_R.head(2)\n",
    "        \n",
    "        \n",
    "##### 'n' SPECIFIES HOW MANY OF THE CLOSEST MARINE RESERVOIR VALUES ####\n",
    "#####  TO EACH SAMPLE ARE AVERAGED, WEIGHTED BY INVERSE DISTANCE ###############\n",
    "n=4\n",
    "\n",
    "df_c['ΔR (14C a)'] = apply_delR(df_c, df_R, n, 'mu')\n",
    "df_c['Reservoir age uncertainty (14C a)'] = apply_delR(df_c, df_R, n, 'uncertainty')\n",
    "\n",
    "print('done')"
   ]
  },
  {
   "cell_type": "markdown",
   "metadata": {},
   "source": [
    "# Calibrate Radiocarbon ages "
   ]
  },
  {
   "cell_type": "code",
   "execution_count": 19,
   "metadata": {},
   "outputs": [
    {
     "name": "stdout",
     "output_type": "stream",
     "text": [
      "----10----\n",
      "corrected age =  7828.1635690286585\n",
      "c14 age uncertainty =  71.86938640672918\n",
      "Calibrated age =  8684.5\n",
      "calibrated age error (-,+) = 259.5 294.5\n",
      "------------\n",
      "----20----\n",
      "corrected age =  6558.1635690286585\n",
      "c14 age uncertainty =  96.25075949040479\n",
      "Calibrated age =  7525.5\n",
      "calibrated age error (-,+) = 253.5 77.5\n",
      "------------\n",
      "----30----\n",
      "corrected age =  7548.1635690286585\n",
      "c14 age uncertainty =  113.42049507245041\n",
      "Calibrated age =  8285.5\n",
      "calibrated age error (-,+) = 242.5 303.5\n",
      "------------\n",
      "----40----\n",
      "corrected age =  6867.1635690286585\n",
      "c14 age uncertainty =  68.65281277908247\n",
      "Calibrated age =  7647.0\n",
      "calibrated age error (-,+) = 68.0 196.0\n",
      "------------\n",
      "----50----\n",
      "corrected age =  7398.1635690286585\n",
      "c14 age uncertainty =  76.08684973423297\n",
      "Calibrated age =  8230.5\n",
      "calibrated age error (-,+) = 196.5 127.5\n",
      "------------\n",
      "----60----\n",
      "corrected age =  7507.1635690286585\n",
      "c14 age uncertainty =  69.20410899997015\n",
      "Calibrated age =  8283.0\n",
      "calibrated age error (-,+) = 102.0 131.0\n",
      "------------\n",
      "----70----\n",
      "corrected age =  6903.1635690286585\n",
      "c14 age uncertainty =  73.240758478321\n",
      "Calibrated age =  7221.5\n",
      "calibrated age error (-,+) = 213.5 190.5\n",
      "------------\n",
      "----80----\n",
      "corrected age =  6086.1635690286585\n",
      "c14 age uncertainty =  60.04339016477791\n",
      "Calibrated age =  6323.5\n",
      "calibrated age error (-,+) = 194.5 181.5\n",
      "------------\n"
     ]
    }
   ],
   "source": [
    "for i, r in df_c.iterrows():\n",
    "\n",
    "    age =  r['Corrected age       (14C a BP)'] + r['ΔR (14C a)']\n",
    "    age_onesig = np.sqrt(r['Corrected age uncertainty (14C a)']**2 +\n",
    "                         r['Reservoir age uncertainty (14C a)']**2 +\n",
    "                         r.bulk_uncertainty)\n",
    "\n",
    "    if age < 0:  \n",
    "        t1 = \"This code cannot process dates younger than 1950.\"\n",
    "        t2 = \"Please remove those dates and rerun.\"\n",
    "        raise ValueError(t1 + t2)\n",
    "\n",
    "\n",
    "\n",
    "    # Calculate radiocarbon determination\n",
    "    cr = R(age, age_onesig, r['Unique sample ID'])\n",
    "\n",
    "    # Choose calibration curve.  \n",
    "    # Note: you can add any .14c file (e.g. Brendryen 2020's normarine18)\n",
    "    # by searching for 'intcal20.14c', navigating to the directory where \n",
    "    # it is stored, and adding the new .14c file.\n",
    "    calib = 'intcal20'\n",
    "    if r.ismarine:\n",
    "        calib = 'marine20'\n",
    "    elif (r.lat < 0):\n",
    "        calib = 'shcal20'\n",
    "\n",
    "\n",
    "    cal =  cr.calibrate(calib)\n",
    "\n",
    "    # Note: iosacal has a bug in the current version which \n",
    "    # incorrectly calculates the median age from the confidence interval\n",
    "    # This line fixes it, but hopefully will not be necessary in future \n",
    "    # iosacal iterations.\n",
    "    CImed = np.median([(c.from_year, c.to_year) for c in hpd_interval(cal, 0.5)])\n",
    "    CI95high = cal.intervals[95][0].from_year\n",
    "    CI95low = cal.intervals[95][-1].to_year\n",
    "\n",
    "    # Add \n",
    "    df_c.loc[i, 'Age                   (cal a BP)'] = CImed\n",
    "    df_c.loc[i, 'Age 2σ Uncertainty +              (cal a)'] = CI95high - CImed \n",
    "    df_c.loc[i, 'Age 2σ Uncertainty -              (cal a)'] = CImed - CI95low\n",
    "\n",
    "\n",
    "    if i%10 == 0:\n",
    "        print(f'----{i}----')\n",
    "        print('corrected age = ', age)\n",
    "        print('c14 age uncertainty = ', age_onesig)\n",
    "\n",
    "        print('Calibrated age = ', CImed)\n",
    "        print('calibrated age error (-,+) =', CImed - CI95low, CI95high - CImed )\n",
    "        print('------------')\n",
    "\n",
    "\n"
   ]
  },
  {
   "cell_type": "code",
   "execution_count": null,
   "metadata": {},
   "outputs": [],
   "source": [
    "\n",
    "# choose your own save path\n",
    "filename = \"HOLSEA_2021_Singapore_14c\"\n",
    "savepath = f'/Users/rogercreel/Desktop/{filename}.xlsx'\n",
    "\n",
    "df_c.to_excel(savepath)"
   ]
  }
 ],
 "metadata": {
  "kernelspec": {
   "display_name": "Python 3 (ipykernel)",
   "language": "python",
   "name": "python3"
  },
  "language_info": {
   "codemirror_mode": {
    "name": "ipython",
    "version": 3
   },
   "file_extension": ".py",
   "mimetype": "text/x-python",
   "name": "python",
   "nbconvert_exporter": "python",
   "pygments_lexer": "ipython3",
   "version": "3.9.7"
  }
 },
 "nbformat": 4,
 "nbformat_minor": 4
}
